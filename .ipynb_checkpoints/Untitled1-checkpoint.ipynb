{
 "cells": [
  {
   "cell_type": "code",
   "execution_count": null,
   "metadata": {},
   "outputs": [],
   "source": [
    "#pip install matplotlib\n"
   ]
  },
  {
   "cell_type": "code",
   "execution_count": 2,
   "metadata": {},
   "outputs": [],
   "source": [
    "import time \n",
    "import traceback\n",
    "import mysql.connector\n",
    "from mysql.connector import Error\n",
    "from mysql.connector import pooling\n",
    "\n",
    "\n",
    "\n",
    "DATABASE = 'nekretnine'\n",
    "USERNAME = 'root'\n",
    "PASSWORD = 'password'\n",
    "\n",
    "\n",
    "class DatabaseManager:\n",
    "    \n",
    "    def __init__(self):\n",
    "        self.connection_pool=None\n",
    "        \n",
    "    def createConnectionPool(self):\n",
    "        self.connection_pool = pooling.MySQLConnectionPool(pool_name=\"pynative_pool\",\n",
    "                                                  pool_size=5,\n",
    "                                                  pool_reset_session=True,\n",
    "                                                  host='localhost',\n",
    "                                                  database=DATABASE,\n",
    "                                                  user=USERNAME,\n",
    "                                                  password=PASSWORD)\n",
    "\n",
    "        \n",
    "    def executeSelectQuery(self, query):\n",
    "        result=None\n",
    "        try:\n",
    "            connection = self.connection_pool.get_connection()\n",
    "            cursor = connection.cursor()\n",
    "            cursor.execute(query)\n",
    "            result = cursor.fetchall()\n",
    "            print('record gotten')\n",
    "        except Error as e:\n",
    "            print(\"Error while connecting to MySQL using Connection pool \", e)\n",
    "        finally:\n",
    "            # closing database connection.\n",
    "            if connection.is_connected():\n",
    "                cursor.close()\n",
    "            connection.close()\n",
    "            return result;\n",
    "            \n",
    "            "
   ]
  },
  {
   "cell_type": "code",
   "execution_count": 19,
   "metadata": {},
   "outputs": [],
   "source": [
    "import pandas as pd\n",
    "import matplotlib.pyplot as plt\n",
    "\n",
    "class DataVisualiser:\n",
    "    def __init__(self):\n",
    "        self.databaseManager = None\n",
    "        \n",
    "    def createDataFrame(self, turpleData, columnNames):\n",
    "        df = pd.DataFrame(turpleData, columns = columnNames)\n",
    "        return df\n",
    "    \n",
    "    def showMostFrequentBelgradeParts(self):        \n",
    "        query = \"select PART_OF_CITY, count(*) as COUNT_REAL_ESTATE from nekretnine.real_estate_t where city='Beograd' group by part_of_city order by count_real_estate desc limit 10;\"\n",
    "        \n",
    "        result = self.databaseManager.executeSelectQuery(query)\n",
    "        \n",
    "        columnNames = ['PartOfTheCity', 'NumberOfRealEstates']\n",
    "        dataFrame = self.createDataFrame(result, columnNames)\n",
    "        \n",
    "        plt.figure(figsize=(30, 10))\n",
    "        plt.bar(dataFrame[columnNames[0]], dataFrame[columnNames[1]])\n",
    "        plt.title('Delovi Beograda sa najviše nekretnina u ponudi', fontsize=30)\n",
    "        plt.xlabel('Deo grada', fontsize=20)\n",
    "        plt.ylabel('Broj nekretnina', fontsize=20)\n",
    "        plt.xticks(fontsize=20,rotation=10)\n",
    "        plt.yticks(fontsize=20)\n",
    "        plt.grid(True)\n",
    "        plt.show()\n",
    "        \n",
    "    def showNumOfAppartmentsPerSquareFootage(self):\n",
    "        query = \"select square_footage from nekretnine.real_estate_t where square_footage is not null and real_estate_type='S' and offer_type='P' order by square_footage asc;\"\n",
    "        \n",
    "        result = self.databaseManager.executeSelectQuery(query)\n",
    "        \n",
    "        ranges = [35, 50, 65, 80, 95, 110, 641]\n",
    "        columnNames = ['SquareFootage']\n",
    "        dataFrame = self.createDataFrame(result, columnNames)\n",
    "        dataFrame.hist(bins=ranges, figsize=(30, 10), xlabelsize=20, ylabelsize=20)\n",
    "        #plt.hist(result, bins=ranges)\n",
    "        #plt.title('Broj stanova za prodaju po kvadraturi', fontsize=30)\n",
    "        #plt.ylabel('Broj stanova', fontsize=20)\n",
    "        plt.show()\n",
    "        \n",
    "    def showNumOfRealEstatePerObjectType(self):\n",
    "        query = \"select object_type from nekretnine.real_estate_t order by object_type asc;\"\n",
    "        \n",
    "        result = self.databaseManager.executeSelectQuery(query)\n",
    "        \n",
    "        columnNames = ['ObjectType']\n",
    "        dataFrame = self.createDataFrame(result, columnNames)\n",
    "        dataFrame.apply(pd.value_counts).plot(kind='bar', subplots=True)\n",
    "\n",
    "        plt.show()\n",
    "    \n",
    "    def plotTasks(self):\n",
    "        self.databaseManager = DatabaseManager()\n",
    "        self.databaseManager.createConnectionPool()\n",
    "        \n",
    "        print('First task')\n",
    "        #self.showMostFrequentBelgradeParts()\n",
    "        \n",
    "        print('Second task')\n",
    "        #self.showNumOfAppartmentsPerSquareFootage()\n",
    "        \n",
    "        print('Third task')\n",
    "        self.showNumOfRealEstatePerObjectType()\n",
    "    "
   ]
  },
  {
   "cell_type": "code",
   "execution_count": 20,
   "metadata": {
    "scrolled": true
   },
   "outputs": [
    {
     "name": "stdout",
     "output_type": "stream",
     "text": [
      "First task\n",
      "Second task\n",
      "Third task\n",
      "record gotten\n"
     ]
    },
    {
     "data": {
      "image/png": "[encoded data removed]",
      "text/plain": [
       "<Figure size 432x288 with 1 Axes>"
      ]
     },
     "metadata": {
      "needs_background": "light"
     },
     "output_type": "display_data"
    }
   ],
   "source": [
    "dataVisualiser =  DataVisualiser()\n",
    "dataVisualiser.plotTasks()"
   ]
  },
  {
   "cell_type": "code",
   "execution_count": null,
   "metadata": {},
   "outputs": [],
   "source": []
  }
 ],
 "metadata": {
  "kernelspec": {
   "display_name": "Python 3",
   "language": "python",
   "name": "python3"
  },
  "language_info": {
   "codemirror_mode": {
    "name": "ipython",
    "version": 3
   },
   "file_extension": ".py",
   "mimetype": "text/x-python",
   "name": "python",
   "nbconvert_exporter": "python",
   "pygments_lexer": "ipython3",
   "version": "3.8.5"
  }
 },
 "nbformat": 4,
 "nbformat_minor": 4
}
